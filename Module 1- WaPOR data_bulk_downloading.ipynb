{
 "cells": [
  {
   "cell_type": "markdown",
   "id": "e5b4aa90",
   "metadata": {},
   "source": [
    "# 1. Bulk downloading the data from WaPOR portal\n",
    "study area: Koga irrigation scheme\n",
    "\n",
    "* Step 1a - Import modules/libraries\n",
    "* Step 1b - Read geographical extent of the study area\n",
    "* Step 1c - Bulk-download WaPOR data for the study area extent\n",
    "**=====================================================================================================================**\n",
    "**Data layers for Water Productivity assessment:**\n",
    "\n",
    "| No.  | WaPOR Data | Spatial resolution | Temporal resolution | Temporal coverage |\n",
    "| :-: | :-: | :-: | :-: | :-: |\n",
    "| 1 |Actual Evapotranspiration & interception (AETI)  | 30 m | Dekadal | 2018-2022 |\n",
    "| 2  | Transpiration (T)  | 30 m | Dekadal  | 2018-2022 |\n",
    "| 3  | Net Primary Production (NPP) | 30 m | Dekadal | 2018-2022 |\n",
    "| 4  | Land cover classification (LCC)  | 30 m | Annual | 2018-2022 |\n",
    "| 5  | Precipitation (PCP)  | 5 km | Dekadal | 2018-2022 |\n",
    "| 6  | Reference Evapotranspiration (RET) | 20 km | Dekadal  | 2018-2022 |\n",
    "\n",
    "**=====================================================================================================================**\n"
   ]
  },
  {
   "cell_type": "markdown",
   "id": "efaea860",
   "metadata": {},
   "source": [
    "# 2.Import modules/labiraries"
   ]
  },
  {
   "cell_type": "code",
   "execution_count": 10,
   "id": "818ace4d",
   "metadata": {},
   "outputs": [
    {
     "ename": "ModuleNotFoundError",
     "evalue": "No module named 'WaPOR22'",
     "output_type": "error",
     "traceback": [
      "\u001b[1;31m---------------------------------------------------------------------------\u001b[0m",
      "\u001b[1;31mModuleNotFoundError\u001b[0m                       Traceback (most recent call last)",
      "Input \u001b[1;32mIn [10]\u001b[0m, in \u001b[0;36m<cell line: 4>\u001b[1;34m()\u001b[0m\n\u001b[0;32m      2\u001b[0m \u001b[38;5;28;01mimport\u001b[39;00m \u001b[38;5;21;01mshapefile\u001b[39;00m             \u001b[38;5;66;03m# module for reading shapefile\u001b[39;00m\n\u001b[0;32m      3\u001b[0m \u001b[38;5;28;01mimport\u001b[39;00m \u001b[38;5;21;01mmatplotlib\u001b[39;00m\u001b[38;5;21;01m.\u001b[39;00m\u001b[38;5;21;01mpyplot\u001b[39;00m \u001b[38;5;28;01mas\u001b[39;00m \u001b[38;5;21;01mplt\u001b[39;00m \u001b[38;5;66;03m# module for plotting \u001b[39;00m\n\u001b[1;32m----> 4\u001b[0m \u001b[38;5;28;01mimport\u001b[39;00m \u001b[38;5;21;01mWaPOR22\u001b[39;00m                 \u001b[38;5;66;03m# Import local module in 'Modules' folder\u001b[39;00m\n\u001b[0;32m      5\u001b[0m WaPOR\u001b[38;5;241m.\u001b[39mAPI\u001b[38;5;241m.\u001b[39mversion\u001b[38;5;241m=\u001b[39m\u001b[38;5;241m2\u001b[39m \u001b[38;5;66;03m#select WaPOR version\u001b[39;00m\n\u001b[0;32m      6\u001b[0m api\u001b[38;5;241m.\u001b[39mtoken \u001b[38;5;241m=\u001b[39m\u001b[38;5;124m'\u001b[39m\u001b[38;5;124m776dd69351872cc111c7d445a0b5b9e9b6e25aee16cf99acd6c649da8db50ae410309d7a81997dff\u001b[39m\u001b[38;5;124m'\u001b[39m\n",
      "\u001b[1;31mModuleNotFoundError\u001b[0m: No module named 'WaPOR22'"
     ]
    }
   ],
   "source": [
    "import os                     # module for interacting with the operating system\n",
    "import shapefile             # module for reading shapefile\n",
    "import matplotlib.pyplot as plt # module for plotting \n",
    "import WaPOR                 # Import local module in 'Modules' folder\n",
    "WaPOR.API.version=2 #select WaPOR version\n",
    "api.token ='776dd69351872cc111c7d445a0b5b9e9b6e25aee16cf99acd6c649da8db50ae410309d7a81997dff'\n",
    "WaPOR.API.getCatalog()"
   ]
  },
  {
   "cell_type": "markdown",
   "id": "a9d7e8e8",
   "metadata": {},
   "source": [
    "# #3.Read geographical extent of the study area\n",
    "Study area: Koga irrigation scheme"
   ]
  },
  {
   "cell_type": "code",
   "execution_count": null,
   "id": "6538db8f",
   "metadata": {},
   "outputs": [],
   "source": [
    "roi_shapefile=r\"..\\Data\\1Boundary\\Shapefile\\Xinavane_1.shp\" #path to the shapefile of study area\n",
    "shape=shapefile.Reader(roi_shapefile) #read shapefile\n",
    "xmin,ymin,xmax,ymax=shape.bbox #read shapefile extent\n",
    "print('Extent of study area: lonlim = [{0},{2}], latlim = [{1},{3}]'.format(xmin,ymin,xmax,ymax))"
   ]
  },
  {
   "cell_type": "code",
   "execution_count": null,
   "id": "ff035b24",
   "metadata": {},
   "outputs": [],
   "source": [
    "##plot to check shapefile\n",
    "plt.figure()\n",
    "sf=shape\n",
    "for shape in sf.shapeRecords(): #loop over all features in shapefile\n",
    "    for i in range(len(shape.shape.parts)): #loop over all points in feature\n",
    "        i_start = shape.shape.parts[i]\n",
    "        if i==len(shape.shape.parts)-1:\n",
    "            i_end = len(shape.shape.points)\n",
    "        else:\n",
    "            i_end = shape.shape.parts[i+1]\n",
    "        x = [i[0] for i in shape.shape.points[i_start:i_end]]\n",
    "        y = [i[1] for i in shape.shape.points[i_start:i_end]]\n",
    "        plt.plot(x,y)\n",
    "plt.show()"
   ]
  },
  {
   "cell_type": "markdown",
   "id": "ed732a8e",
   "metadata": {},
   "source": [
    "# #4.Bulk-download WaPOR data for the study area extent"
   ]
  },
  {
   "cell_type": "code",
   "execution_count": null,
   "id": "e950cab4",
   "metadata": {},
   "outputs": [],
   "source": [
    "output_dir=r'..\\Data' # folder to save data"
   ]
  },
  {
   "cell_type": "markdown",
   "id": "b9160152",
   "metadata": {},
   "source": [
    "# #4.1. Land cover classification (annual)"
   ]
  },
  {
   "cell_type": "code",
   "execution_count": null,
   "id": "e45ae439",
   "metadata": {},
   "outputs": [],
   "source": [
    "WaPOR.download_yearly(output_dir, \n",
    "                       data='LCC',\n",
    "                       Startdate='2009-01-01', \n",
    "                       Enddate='2019-12-31',\n",
    "                       latlim=[ymin-0.1, ymax+0.1], \n",
    "                       lonlim=[xmin-0.1, xmax+0.1],\n",
    "                       level=2, \n",
    "                       )"
   ]
  },
  {
   "cell_type": "markdown",
   "id": "36e64460",
   "metadata": {},
   "source": [
    "# #4.2. Reference evapotranspiration (dekadal)"
   ]
  },
  {
   "cell_type": "code",
   "execution_count": null,
   "id": "c6f7377d",
   "metadata": {},
   "outputs": [],
   "source": [
    "WaPOR.download_dekadal(output_dir, \n",
    "                       data='RET',\n",
    "                       Startdate='2009-01-01', \n",
    "                       Enddate='2019-12-31',\n",
    "                       latlim=[ymin-0.1, ymax+0.1], \n",
    "                       lonlim=[xmin-0.1, xmax+0.1],\n",
    "                       level=1, \n",
    "                       )"
   ]
  },
  {
   "cell_type": "markdown",
   "id": "d937bce6",
   "metadata": {},
   "source": [
    "# #4.3. Precipitation (dekadal)"
   ]
  },
  {
   "cell_type": "code",
   "execution_count": null,
   "id": "9a337499",
   "metadata": {},
   "outputs": [],
   "source": [
    "WaPOR.download_dekadal(output_dir, \n",
    "                       data='PCP',\n",
    "                       Startdate='2009-01-01', \n",
    "                       Enddate='2019-12-31',\n",
    "                       latlim=[ymin-0.1, ymax+0.1], \n",
    "                       lonlim=[xmin-0.1, xmax+0.1],\n",
    "                       level=1, \n",
    "                       )"
   ]
  },
  {
   "cell_type": "markdown",
   "id": "469ae7f2",
   "metadata": {},
   "source": [
    "# #4.4. Actual evapotranspiration (dekadal)"
   ]
  },
  {
   "cell_type": "code",
   "execution_count": null,
   "id": "06408276",
   "metadata": {},
   "outputs": [],
   "source": [
    "WaPOR.download_dekadal(output_dir, \n",
    "                       data='AETI',\n",
    "                       Startdate='2009-01-01', \n",
    "                       Enddate='2019-12-31',\n",
    "                       latlim=[ymin-0.1, ymax+0.1], \n",
    "                       lonlim=[xmin-0.1, xmax+0.1],\n",
    "                       level=2, \n",
    "                       )"
   ]
  },
  {
   "cell_type": "markdown",
   "id": "ec3c4bbe",
   "metadata": {},
   "source": [
    "# #4.5. Transpiration (dekadal)"
   ]
  },
  {
   "cell_type": "code",
   "execution_count": null,
   "id": "5d2fff1b",
   "metadata": {},
   "outputs": [],
   "source": [
    "WaPOR.download_dekadal(output_dir, \n",
    "                       data='T',\n",
    "                       Startdate='2009-01-01', \n",
    "                       Enddate='2019-12-31',\n",
    "                       latlim=[ymin-0.1, ymax+0.1], \n",
    "                       lonlim=[xmin-0.1, xmax+0.1],\n",
    "                       level=2, \n",
    "                       )"
   ]
  },
  {
   "cell_type": "markdown",
   "id": "15fda5db",
   "metadata": {},
   "source": [
    "# #4.6. Net primary production (dekadal)"
   ]
  },
  {
   "cell_type": "code",
   "execution_count": null,
   "id": "2c602bc5",
   "metadata": {},
   "outputs": [],
   "source": [
    "WaPOR.download_dekadal(output_dir, \n",
    "                       data='NPP',\n",
    "                       Startdate='2009-01-01', \n",
    "                       Enddate='2019-12-31',\n",
    "                       latlim=[ymin-0.1, ymax+0.1], \n",
    "                       lonlim=[xmin-0.1, xmax+0.1],\n",
    "                       level=2, \n",
    "                       )"
   ]
  }
 ],
 "metadata": {
  "kernelspec": {
   "display_name": "Python 3 (ipykernel)",
   "language": "python",
   "name": "python3"
  },
  "language_info": {
   "codemirror_mode": {
    "name": "ipython",
    "version": 3
   },
   "file_extension": ".py",
   "mimetype": "text/x-python",
   "name": "python",
   "nbconvert_exporter": "python",
   "pygments_lexer": "ipython3",
   "version": "3.9.13"
  }
 },
 "nbformat": 4,
 "nbformat_minor": 5
}
