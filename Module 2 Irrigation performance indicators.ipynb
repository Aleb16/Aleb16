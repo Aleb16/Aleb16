{
 "cells": [
  {
   "cell_type": "markdown",
   "id": "cda4260a",
   "metadata": {},
   "source": [
    "# Module 2 - In this jupyter notebook, perfomance indicators are calculated \n",
    "* Step 3a - Set up: Import modules/libraries, inport data, create output folder\n",
    "* Step 3b - Calculate uniformity\n",
    "* Step 3c - Calculate efficiency (beneficial fraction)\n",
    "* Step 3d - Calculate adquacy\n",
    "* Step 3e - Calculate relative water deficit \n",
    "**=====================================================================================================================**\n",
    "\n",
    "![title](img/Fig3_1.png)\n",
    "\n",
    "**=====================================================================================================================**\n",
    "#### <span style='background :lightgreen' > References:\n",
    "* Karimi, P., Bongani, B., Blatchford, M., and de Fraiture, C.: Global satellite-based ET products for the local level irrigation management: An application of irrigation performance assessment in the sugarbelt of Swaziland, Remote Sensing, 11, 705, 2019.\n",
    "* Bastiaanssen, W. G., and Bos, M.: Irrigation performance indicators based on remotely sensed data: a review of literature, Irrigation and drainage systems, 13, 291-311, 1999.\n",
    "* Bastiaanssen, W. G., Van der Wal, T., and Visser, T.: Diagnosis of regional evaporation by remote sensing to support irrigation performance assessment, Irrigation and Drainage Systems, 10, 1-23, 1996."
   ]
  },
  {
   "cell_type": "markdown",
   "id": "939b3d7f",
   "metadata": {},
   "source": [
    "# i) Import packages/libraries"
   ]
  },
  {
   "cell_type": "code",
   "execution_count": 1,
   "id": "b29fc79c",
   "metadata": {},
   "outputs": [
    {
     "ename": "ModuleNotFoundError",
     "evalue": "No module named 'panadas'",
     "output_type": "error",
     "traceback": [
      "\u001b[1;31m---------------------------------------------------------------------------\u001b[0m",
      "\u001b[1;31mModuleNotFoundError\u001b[0m                       Traceback (most recent call last)",
      "Input \u001b[1;32mIn [1]\u001b[0m, in \u001b[0;36m<cell line: 5>\u001b[1;34m()\u001b[0m\n\u001b[0;32m      3\u001b[0m \u001b[38;5;28;01mimport\u001b[39;00m \u001b[38;5;21;01mglob\u001b[39;00m\n\u001b[0;32m      4\u001b[0m \u001b[38;5;28;01mimport\u001b[39;00m \u001b[38;5;21;01mnumpy\u001b[39;00m \u001b[38;5;28;01mas\u001b[39;00m \u001b[38;5;21;01mnp\u001b[39;00m\n\u001b[1;32m----> 5\u001b[0m \u001b[38;5;28;01mimport\u001b[39;00m \u001b[38;5;21;01mpanadas\u001b[39;00m \u001b[38;5;28;01mas\u001b[39;00m \u001b[38;5;21;01mpd\u001b[39;00m\n\u001b[0;32m      6\u001b[0m \u001b[38;5;28;01mfrom\u001b[39;00m \u001b[38;5;21;01mmatplotlib\u001b[39;00m \u001b[38;5;28;01mimport\u001b[39;00m pyplot \u001b[38;5;28;01mas\u001b[39;00m plt\n\u001b[0;32m      8\u001b[0m \u001b[38;5;66;03m# change the directory to where the modules are saved\u001b[39;00m\n",
      "\u001b[1;31mModuleNotFoundError\u001b[0m: No module named 'panadas'"
     ]
    }
   ],
   "source": [
    "import os\n",
    "import sys\n",
    "import glob\n",
    "import numpy as np\n",
    "import panadas as pd\n",
    "from matplotlib import pyplot as plt\n",
    "\n",
    "# change the directory to where the modules are saved\n",
    "os.chdir(os.path.join(os.path.split(os.getcwd())[0], \"Modules\"))\n",
    "from GIS_functions import GIS_function as gis"
   ]
  },
  {
   "cell_type": "markdown",
   "id": "72eb6a8c",
   "metadata": {},
   "source": [
    "# ii) Import the input data\n",
    "* Seasonal T, AETI, ETp "
   ]
  },
  {
   "cell_type": "code",
   "execution_count": 3,
   "id": "99b49e68",
   "metadata": {},
   "outputs": [],
   "source": [
    "# get seasonal data\n",
    "T_fhs    = glob.glob(r'..\\Data\\2L3_T_season\\*.tif')\n",
    "AETI_fhs = glob.glob(r'..\\Data\\2L3_AETI_season\\*.tif')\n",
    "ETp_fhs  = glob.glob(r'..\\Data\\2L3_ETp_season\\*.tif')"
   ]
  },
  {
   "cell_type": "markdown",
   "id": "b7858afc",
   "metadata": {},
   "source": [
    "# iii) Output folder: Make one or connect to the existing one"
   ]
  },
  {
   "cell_type": "code",
   "execution_count": 4,
   "id": "2d8ca1b5",
   "metadata": {},
   "outputs": [],
   "source": [
    "# output_folder\n",
    "output_folderBF = r'..\\Data\\3_BeneficialFraction'  # create output folder\n",
    "output_folderAd = r'..\\Data\\3_Adequacy'  # create output folder\n",
    "\n",
    "# Make one if the folder does not exit\n",
    "if not os.path.exists(output_folderBF):\n",
    "    os.makedirs(output_folderBF)\n",
    "if not os.path.exists(output_folderAd):\n",
    "    os.makedirs(output_folderAd)"
   ]
  },
  {
   "cell_type": "markdown",
   "id": "c7308a20",
   "metadata": {},
   "source": [
    "# Step 3a - Calculate uniformity of water consumption\n",
    "* Equity is defined as the coefficients of variation (CV) of seasonal ETa in the area of interest.\n",
    "* It measures the evenness of the water supply in an irrigation scheme. \n",
    "* Note: CV of 0 to 10% is good, 10 to 25% is fair and CV > 25% is poor uniformity (Bastiaanssen et al., 1996) \n",
    "<br/>"
   ]
  },
  {
   "cell_type": "code",
   "execution_count": 5,
   "id": "00a04b0b",
   "metadata": {},
   "outputs": [],
   "source": [
    "# Uniformity of water Consumption \n",
    "# get seasonal AETI\n",
    "# AETI_fhs = glob.glob(r'..\\Data\\2L3_AETI_season\\*.tif') \n",
    "\n",
    "for i in range(len(AETI_fhs)):\n",
    "    AETI = gis.OpenAsArray(AETI_fhs[i], nan_values=True)\n",
    "    \n",
    "    AETIm   = np.nanmean(AETI)\n",
    "    AETIsd  = np.nanstd(AETI)\n",
    "    \n",
    "    CV_AETI = (AETIsd / AETIm) * 100\n",
    "    \n",
    "    # Identify the date from the file name\n",
    "    date  = os.path.basename(AETI_fhs[i]).split('.')[0].replace('AETI', '').replace('_', ' ') \n",
    "    \n",
    "    if CV_AETI < 10:\n",
    "        U = 'Good Uniformity'\n",
    "    if (CV_AETI >= 10) and (CV_AETI < 25):\n",
    "        U = 'Fair Uniformity'\n",
    "    else: \n",
    "        U = 'Poor Uniformity'\n",
    "\n",
    "    print ('CV of AETI in', date, '=', round(CV_AETI, 1), ',', U)"
   ]
  },
  {
   "cell_type": "markdown",
   "id": "78408723",
   "metadata": {},
   "source": [
    "# Step 3b - Calculate efficiency (beneficial fraction)\n",
    "* Beneficial fraction is the ratio of the water that is consumed as transpiration compared to overall field water consumption (ETa). \n",
    "* $Beneficial fraction = \\frac{T_a}{ET_a}$\n",
    "* It is a measure of the efficiency of on farm water and agronomic practices in use of water for crop growth."
   ]
  },
  {
   "cell_type": "code",
   "execution_count": 6,
   "id": "29700b36",
   "metadata": {},
   "outputs": [
    {
     "ename": "IndexError",
     "evalue": "list index out of range",
     "output_type": "error",
     "traceback": [
      "\u001b[1;31m---------------------------------------------------------------------------\u001b[0m",
      "\u001b[1;31mIndexError\u001b[0m                                Traceback (most recent call last)",
      "Input \u001b[1;32mIn [6]\u001b[0m, in \u001b[0;36m<cell line: 2>\u001b[1;34m()\u001b[0m\n\u001b[0;32m      1\u001b[0m \u001b[38;5;66;03m# collecting Geoinfo such as projection, the x and y axis\u001b[39;00m\n\u001b[1;32m----> 2\u001b[0m in_fh \u001b[38;5;241m=\u001b[39m \u001b[43mAETI_fhs\u001b[49m\u001b[43m[\u001b[49m\u001b[38;5;241;43m0\u001b[39;49m\u001b[43m]\u001b[49m      \n\u001b[0;32m      3\u001b[0m driver, NDV, xsize, ysize, GeoT, Projection \u001b[38;5;241m=\u001b[39m gis\u001b[38;5;241m.\u001b[39mGetGeoInfo(in_fh)\n\u001b[0;32m      4\u001b[0m spatial_extent \u001b[38;5;241m=\u001b[39m (GeoT[\u001b[38;5;241m0\u001b[39m], GeoT[\u001b[38;5;241m0\u001b[39m] \u001b[38;5;241m+\u001b[39m GeoT[\u001b[38;5;241m1\u001b[39m] \u001b[38;5;241m*\u001b[39m xsize, GeoT[\u001b[38;5;241m3\u001b[39m] \u001b[38;5;241m+\u001b[39m GeoT[\u001b[38;5;241m5\u001b[39m] \u001b[38;5;241m*\u001b[39m ysize, GeoT[\u001b[38;5;241m3\u001b[39m])  \u001b[38;5;66;03m# get spatial extent of raster\u001b[39;00m\n",
      "\u001b[1;31mIndexError\u001b[0m: list index out of range"
     ]
    }
   ],
   "source": [
    "# collecting Geoinfo such as projection, the x and y axis\n",
    "in_fh = AETI_fhs[0]      \n",
    "driver, NDV, xsize, ysize, GeoT, Projection = gis.GetGeoInfo(in_fh)\n",
    "spatial_extent = (GeoT[0], GeoT[0] + GeoT[1] * xsize, GeoT[3] + GeoT[5] * ysize, GeoT[3])  # get spatial extent of raster\n",
    "  \n",
    "for Tfh, ETfh in zip(T_fhs, AETI_fhs):\n",
    "    T    = gis.OpenAsArray(Tfh,  nan_values=True)\n",
    "    AETI = gis.OpenAsArray(ETfh, nan_values=True)\n",
    "    \n",
    "    T_over_AETI = T/AETI\n",
    "    \n",
    "    # Identify the date from the file name\n",
    "    date  = os.path.basename(ETfh).split('.')[0].replace('AETI', '').replace('_', ' ') \n",
    "    \n",
    "    # update the file name, and save into output folder\n",
    "    basename  = os.path.basename(ETfh).replace('AETI', 'BF')  \n",
    "    output_fn = os.path.join(output_folderBF, basename)\n",
    "    gis.CreateGeoTiff(output_fn, T_over_AETI, driver, NDV, xsize, ysize, GeoT, Projection) \n",
    "    \n",
    "    # Plot the raster map\n",
    "    seasonal = T_over_AETI\n",
    "    \n",
    "    plt.figure(figsize = (12,8))\n",
    "    plt.imshow(seasonal, cmap='RdYlGn', vmin=np.nanmin(seasonal), vmax=np.nanmax(seasonal), extent=spatial_extent)\n",
    "    plt.colorbar(shrink=0.75, label='BF [-]')\n",
    "    plt.xlabel('Longitude ($^{\\circ}$ East)', fontsize=14)  # add axes label\n",
    "    plt.ylabel('Latitude ($^{\\circ}$ North)', fontsize=14)\n",
    "    plt.title('Beneficial fraction [-] ' + date)\n",
    "#     plt.clim(0,1)\n",
    "    plt.show ()"
   ]
  },
  {
   "cell_type": "markdown",
   "id": "f1c85dc8",
   "metadata": {},
   "source": [
    "# Step 3c - Calculate adequacy (relative evapotranspiration)\n",
    "$Adequacy= \\frac{ET_a}{ET_p}$"
   ]
  },
  {
   "cell_type": "code",
   "execution_count": 7,
   "id": "2e3d1c68",
   "metadata": {},
   "outputs": [
    {
     "ename": "IndexError",
     "evalue": "list index out of range",
     "output_type": "error",
     "traceback": [
      "\u001b[1;31m---------------------------------------------------------------------------\u001b[0m",
      "\u001b[1;31mIndexError\u001b[0m                                Traceback (most recent call last)",
      "Input \u001b[1;32mIn [7]\u001b[0m, in \u001b[0;36m<cell line: 4>\u001b[1;34m()\u001b[0m\n\u001b[0;32m      1\u001b[0m \u001b[38;5;66;03m## Calculate and save raster adequacy layer\u001b[39;00m\n\u001b[0;32m      2\u001b[0m \n\u001b[0;32m      3\u001b[0m \u001b[38;5;66;03m# collecting Geoinfo such as projection, the x and y axis\u001b[39;00m\n\u001b[1;32m----> 4\u001b[0m in_fh \u001b[38;5;241m=\u001b[39m \u001b[43mAETI_fhs\u001b[49m\u001b[43m[\u001b[49m\u001b[38;5;241;43m0\u001b[39;49m\u001b[43m]\u001b[49m      \n\u001b[0;32m      5\u001b[0m driver, NDV, xsize, ysize, GeoT, Projection \u001b[38;5;241m=\u001b[39m gis\u001b[38;5;241m.\u001b[39mGetGeoInfo(in_fh)\n\u001b[0;32m      6\u001b[0m spatial_extent \u001b[38;5;241m=\u001b[39m (GeoT[\u001b[38;5;241m0\u001b[39m], GeoT[\u001b[38;5;241m0\u001b[39m] \u001b[38;5;241m+\u001b[39m GeoT[\u001b[38;5;241m1\u001b[39m] \u001b[38;5;241m*\u001b[39m xsize, GeoT[\u001b[38;5;241m3\u001b[39m] \u001b[38;5;241m+\u001b[39m GeoT[\u001b[38;5;241m5\u001b[39m] \u001b[38;5;241m*\u001b[39m ysize, GeoT[\u001b[38;5;241m3\u001b[39m])  \u001b[38;5;66;03m# get spatial extent of raster\u001b[39;00m\n",
      "\u001b[1;31mIndexError\u001b[0m: list index out of range"
     ]
    }
   ],
   "source": [
    "## Calculate and save raster adequacy layer\n",
    "\n",
    "# collecting Geoinfo such as projection, the x and y axis\n",
    "in_fh = AETI_fhs[0]      \n",
    "driver, NDV, xsize, ysize, GeoT, Projection = gis.GetGeoInfo(in_fh)\n",
    "spatial_extent = (GeoT[0], GeoT[0] + GeoT[1] * xsize, GeoT[3] + GeoT[5] * ysize, GeoT[3])  # get spatial extent of raster\n",
    "\n",
    "for ETfh, ETpfh in zip(AETI_fhs, ETp_fhs):\n",
    "    AETI = gis.OpenAsArray(ETfh,  nan_values=True)\n",
    "    ETp  = gis.OpenAsArray(ETpfh, nan_values=True)\n",
    "    \n",
    "    ETa_by_ETp = AETI / ETp\n",
    "    \n",
    "    # Identify the date from the file name\n",
    "    date  = os.path.basename(ETfh).split('.')[0].replace('AETI', '').replace('_', ' ') \n",
    "        \n",
    "    # update the file name, and save into output folder\n",
    "    basename  = os.path.basename(ETfh).replace('AETI', 'Adequacy')\n",
    "    output_fn = os.path.join(output_folderAd, basename)\n",
    "    gis.CreateGeoTiff(output_fn, ETa_by_ETp, driver, NDV, xsize, ysize, GeoT, Projection) \n",
    "  \n",
    "    # Plot the raster map\n",
    "    seasonal = ETa_by_ETp\n",
    "    \n",
    "    plt.figure(figsize = (12,8))\n",
    "    plt.imshow(seasonal, cmap='RdYlGn', vmin=np.nanmin(seasonal), vmax=np.nanmax(seasonal), extent=spatial_extent)\n",
    "    plt.colorbar(shrink=0.75, label='Adequacy [-]')\n",
    "    plt.xlabel('Longitude ($^{\\circ}$ East)', fontsize=12)  # add axes label\n",
    "    plt.ylabel('Latitude ($^{\\circ}$ North)', fontsize=12)\n",
    "    plt.title('Adequacy [-] ' + date)\n",
    "    plt.show ()\n",
    "    ;"
   ]
  },
  {
   "cell_type": "markdown",
   "id": "8985d456",
   "metadata": {},
   "source": [
    "# Step 3d - Calculate Relative water Deficit (RWD)\n",
    "$RWD= 1-\\frac{ET_a}{ET_x}$\n",
    "<br/>${ET_x} = $ Can be ETp or 99 percentile of the actual evapotranspiration"
   ]
  },
  {
   "cell_type": "code",
   "execution_count": null,
   "id": "bdb6318b",
   "metadata": {},
   "outputs": [],
   "source": [
    "# collecting Geoinfo such as projection, the x and y axis\n",
    "in_fh = AETI_fhs[0]      \n",
    "driver, NDV, xsize, ysize, GeoT, Projection = gis.GetGeoInfo(in_fh)\n",
    "spatial_extent = (GeoT[0], GeoT[0] + GeoT[1] * xsize, GeoT[3] + GeoT[5] * ysize, GeoT[3])  # get spatial extent of raster\n",
    "   \n",
    "for i in range(len(AETI_fhs)):\n",
    "    AETI = gis.OpenAsArray(AETI_fhs[i], nan_values=True)\n",
    "    \n",
    "    # reshape the arrays\n",
    "    AETI1_1D  = np.reshape(AETI,  AETI.shape[0]*AETI.shape[1])\n",
    "    ETx       = np.nanpercentile(AETI1_1D, 99)\n",
    "    \n",
    "    AETI_mean = np.nanmean(AETI)\n",
    "   \n",
    "    RWD = 1-(AETI_mean/ETx)\n",
    "    \n",
    "    # Identify the date from the file name\n",
    "    date  = os.path.basename(AETI_fhs[i]).split('.')[0].replace('AETI', '').replace('_', ' ') \n",
    "    \n",
    "    print ('Relative water deficit', date, '=', round(RWD, 2))\n",
    "    ;"
   ]
  },
  {
   "cell_type": "code",
   "execution_count": null,
   "id": "b70ff5f1",
   "metadata": {},
   "outputs": [],
   "source": []
  },
  {
   "cell_type": "code",
   "execution_count": null,
   "id": "7a0bda30",
   "metadata": {},
   "outputs": [],
   "source": []
  }
 ],
 "metadata": {
  "kernelspec": {
   "display_name": "Python 3 (ipykernel)",
   "language": "python",
   "name": "python3"
  },
  "language_info": {
   "codemirror_mode": {
    "name": "ipython",
    "version": 3
   },
   "file_extension": ".py",
   "mimetype": "text/x-python",
   "name": "python",
   "nbconvert_exporter": "python",
   "pygments_lexer": "ipython3",
   "version": "3.9.13"
  }
 },
 "nbformat": 4,
 "nbformat_minor": 5
}
